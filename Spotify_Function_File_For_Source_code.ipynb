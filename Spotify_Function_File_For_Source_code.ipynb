{
 "cells": [
  {
   "cell_type": "code",
   "execution_count": 24,
   "id": "0dc7624d",
   "metadata": {},
   "outputs": [],
   "source": [
    "import base64\n",
    "from requests import post,get\n",
    "import json\n",
    "import pandas as pd\n",
    "import s3fs"
   ]
  },
  {
   "cell_type": "code",
   "execution_count": 31,
   "id": "a1500822",
   "metadata": {},
   "outputs": [],
   "source": [
    "def spotify_artist_search_and_save():\n",
    "    \n",
    "    # Replace these with your actual client ID, client secret, and artist name\n",
    "    client_id = \"a9a65070f7dd43408a9b1185f92c8966\"\n",
    "    client_secret = \"cbf316d2e45f468680e1ca3f759813ec\"\n",
    "    artist_name = \"kumar\"\n",
    "    \n",
    "    def get_token():\n",
    "        auth_string = client_id + \":\" + client_secret\n",
    "        auth_bytes = auth_string.encode(\"utf-8\")\n",
    "        auth_base64 = str(base64.b64encode(auth_bytes), \"utf-8\")\n",
    "\n",
    "        url = \"https://accounts.spotify.com/api/token\"\n",
    "        headers = {\n",
    "            \"Authorization\": \"Basic \" + auth_base64,\n",
    "            \"Content-Type\": \"application/x-www-form-urlencoded\"\n",
    "        }\n",
    "        data = {\"grant_type\": \"client_credentials\"}\n",
    "        result = post(url, headers=headers, data=data)\n",
    "        json_result = json.loads(result.content)\n",
    "        token = json_result[\"access_token\"]\n",
    "        return token\n",
    "\n",
    "    def get_auth_header(token):\n",
    "        return {\"Authorization\": \"Bearer \" + token}\n",
    "\n",
    "    def search_for_artist(token, artist_name):\n",
    "        url = \"https://api.spotify.com/v1/search\"\n",
    "        headers = get_auth_header(token)\n",
    "        query = f\"?q={artist_name}&type=artist&limit=1\"\n",
    "        query_url = url + query\n",
    "        result = get(query_url, headers=headers)\n",
    "        json_result = json.loads(result.content)[\"artists\"][\"items\"]\n",
    "        \n",
    "        if len(json_result) == 0:\n",
    "            print(\"No artist with this name exists\")\n",
    "            return None\n",
    "        return json_result[0]\n",
    "\n",
    "    def get_song_by_artist(token, artist_id):\n",
    "        url = f\"https://api.spotify.com/v1/artists/{artist_id}/top-tracks?country=IN\"\n",
    "        headers = get_auth_header(token)\n",
    "        result = get(url, headers=headers)\n",
    "        json_result = json.loads(result.content)['tracks']\n",
    "        return json_result\n",
    "\n",
    "    token = get_token()\n",
    "    result = search_for_artist(token, artist_name)\n",
    "    artist_id = result['id']\n",
    "    songs = get_song_by_artist(token, artist_id)\n",
    "    # Save the data in a dictionary\n",
    "    ids = []\n",
    "    song_name = []\n",
    "    for idx, song in enumerate(songs):\n",
    "        ids.append(idx + 1)\n",
    "        song_name.append(song['name'])\n",
    "\n",
    "    songs_data = pd.DataFrame({'id': ids, 'Top_Tracks': song_name})\n",
    "    songs_data = songs_data.set_index('id')\n",
    "    songs_data.to_csv(f\"s3://airflow-spotify-bucket-new/result_{artist_name}.csv\")"
   ]
  }
 ],
 "metadata": {
  "kernelspec": {
   "display_name": "Python 3 (ipykernel)",
   "language": "python",
   "name": "python3"
  },
  "language_info": {
   "codemirror_mode": {
    "name": "ipython",
    "version": 3
   },
   "file_extension": ".py",
   "mimetype": "text/x-python",
   "name": "python",
   "nbconvert_exporter": "python",
   "pygments_lexer": "ipython3",
   "version": "3.10.9"
  }
 },
 "nbformat": 4,
 "nbformat_minor": 5
}
