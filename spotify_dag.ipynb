{
 "cells": [
  {
   "cell_type": "code",
   "execution_count": null,
   "id": "bf81dc41",
   "metadata": {},
   "outputs": [],
   "source": [
    "# pip install apache-airflow"
   ]
  },
  {
   "cell_type": "code",
   "execution_count": 1,
   "id": "e410c26f",
   "metadata": {},
   "outputs": [
    {
     "name": "stderr",
     "output_type": "stream",
     "text": [
      "WARNING:root:OSError while attempting to symlink the latest log directory\n"
     ]
    }
   ],
   "source": [
    "\n",
    "from datetime import timedelta\n",
    "from airflow import DAG\n",
    "from airflow.operators.python import PythonOperator\n",
    "from airflow.utils.dates import days_ago\n",
    "from datetime import datetime\n",
    "from spotify_functions import spotify_artist_search_and_save"
   ]
  },
  {
   "cell_type": "code",
   "execution_count": 2,
   "id": "a699a336",
   "metadata": {},
   "outputs": [
    {
     "name": "stdout",
     "output_type": "stream",
     "text": [
      "[\u001b[34m2023-08-21T00:55:48.852+0530\u001b[0m] {\u001b[34mutils.py:\u001b[0m148} INFO\u001b[0m - Note: NumExpr detected 12 cores but \"NUMEXPR_MAX_THREADS\" not set, so enforcing safe limit of 8.\u001b[0m\n",
      "[\u001b[34m2023-08-21T00:55:48.866+0530\u001b[0m] {\u001b[34mutils.py:\u001b[0m160} INFO\u001b[0m - NumExpr defaulting to 8 threads.\u001b[0m\n"
     ]
    }
   ],
   "source": [
    "import pandas as pd"
   ]
  },
  {
   "cell_type": "code",
   "execution_count": 3,
   "id": "6c91e4c4",
   "metadata": {},
   "outputs": [
    {
     "name": "stdout",
     "output_type": "stream",
     "text": [
      "C:\\Users\\Futurense\\Desktop\\Twitter Data Pipeline using Airflow\n"
     ]
    }
   ],
   "source": [
    "# let's check our directory\n",
    "\n",
    "import os\n",
    "print(os.getcwd())"
   ]
  },
  {
   "cell_type": "code",
   "execution_count": 4,
   "id": "4509dd09",
   "metadata": {},
   "outputs": [
    {
     "name": "stdout",
     "output_type": "stream",
     "text": [
      "['C:\\\\Users\\\\Futurense\\\\Desktop\\\\Twitter Data Pipeline using Airflow', 'C:\\\\Users\\\\Futurense\\\\anaconda3\\\\python310.zip', 'C:\\\\Users\\\\Futurense\\\\anaconda3\\\\DLLs', 'C:\\\\Users\\\\Futurense\\\\anaconda3\\\\lib', 'C:\\\\Users\\\\Futurense\\\\anaconda3', '', 'C:\\\\Users\\\\Futurense\\\\anaconda3\\\\lib\\\\site-packages', 'C:\\\\Users\\\\Futurense\\\\anaconda3\\\\lib\\\\site-packages\\\\win32', 'C:\\\\Users\\\\Futurense\\\\anaconda3\\\\lib\\\\site-packages\\\\win32\\\\lib', 'C:\\\\Users\\\\Futurense\\\\anaconda3\\\\lib\\\\site-packages\\\\Pythonwin', 'C:\\\\Users\\\\Futurense/airflow/dags', 'C:\\\\Users\\\\Futurense/airflow\\\\config', 'C:\\\\Users\\\\Futurense/airflow/plugins']\n"
     ]
    }
   ],
   "source": [
    "# Let's check python searches this path for finding the module or not\n",
    "\n",
    "import sys\n",
    "print(sys.path)\n"
   ]
  },
  {
   "cell_type": "code",
   "execution_count": 5,
   "id": "cfc33cb4",
   "metadata": {},
   "outputs": [],
   "source": [
    "# importing the function from the .py file which is our source code file."
   ]
  },
  {
   "cell_type": "code",
   "execution_count": 6,
   "id": "f5c3b32a",
   "metadata": {},
   "outputs": [],
   "source": [
    "from spotify_functions import spotify_artist_search_and_save"
   ]
  },
  {
   "cell_type": "code",
   "execution_count": 7,
   "id": "9e9e3af3",
   "metadata": {},
   "outputs": [],
   "source": [
    "# With magic command also we can read that file\n",
    "\n",
    "#%run spotify_functions"
   ]
  },
  {
   "cell_type": "code",
   "execution_count": 8,
   "id": "b6c4f79f",
   "metadata": {},
   "outputs": [],
   "source": [
    "#spotify_artist_search_and_save(client_id, client_secret, artist_name)"
   ]
  },
  {
   "cell_type": "code",
   "execution_count": null,
   "id": "95cb51ca",
   "metadata": {},
   "outputs": [],
   "source": [
    "default_args = {\n",
    "    'owner':'airflow',\n",
    "    'depends_on_past' : False,\n",
    "    'start_date' : datetime.now(),\n",
    "    'email': ['airflow@example.com'],\n",
    "    'email_on_failure':False,\n",
    "    'email_on_retry':False,\n",
    "    'retries':1,\n",
    "    'retry_delay':timedelta(minutes = 1)\n",
    "}\n",
    "\n",
    "dag = DAG('spotify_dag',\n",
    "         default_args=default_args,\n",
    "         description='My first etl code',\n",
    "         schedule_interval=timedelta(minutes=5))\n",
    "\n",
    "run_etl = PythonOperator(\n",
    "    task_id='complete_spotify_etl',\n",
    "    python_callable=spotify_artist_search_and_save,\n",
    "    dag = dag)\n",
    "\n",
    "run_etl"
   ]
  }
 ],
 "metadata": {
  "kernelspec": {
   "display_name": "Python 3 (ipykernel)",
   "language": "python",
   "name": "python3"
  },
  "language_info": {
   "codemirror_mode": {
    "name": "ipython",
    "version": 3
   },
   "file_extension": ".py",
   "mimetype": "text/x-python",
   "name": "python",
   "nbconvert_exporter": "python",
   "pygments_lexer": "ipython3",
   "version": "3.10.9"
  }
 },
 "nbformat": 4,
 "nbformat_minor": 5
}
